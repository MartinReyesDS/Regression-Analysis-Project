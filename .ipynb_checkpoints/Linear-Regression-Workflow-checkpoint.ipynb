{
 "cells": [
  {
   "cell_type": "markdown",
   "metadata": {},
   "source": [
    "#### General workflow\n",
    "**O**btain Data:\n",
    "- quick preview of data and business understanding\n",
    "\n",
    "**S**crub/Clean Data:\n",
    "- Drop duplicate rows/id's appropriately\n",
    "- Deal w/ Data Types:\n",
    "    - investigate string objects like value counts, hidden missing values, etc.\n",
    "    - dates\n",
    "- Deal with missing values and fill appropriately\n",
    "- Deal w/ outliers and extraneous values\n",
    "    - check descriptive stats\n",
    "- Bin/cut cat vars and create new features if necessary\n",
    "    - check distributions/hists\n",
    "- Investigate/deal with multicollinearity\n",
    "    - remove columns if necessary\n",
    "- Save cleaned data to csv\n",
    "\n",
    "**E**DA:\n",
    "- Load clean data/preview\n",
    "- Explore y variable for outliers and distribution (with boxplot and/or histogram)\n",
    "    - address issues if necessary\n",
    "- Check heatmap for multicollinearity and strong correlations b/w price and the features\n",
    "    - note strong/weak feature candidates\n",
    "- Split continuous and categorical variables\n",
    "- Explore strong feature candidates with a scatter matrix\n",
    "    - focus on distributions (diagonal) and scatter plots with y on y-axis\n",
    "\n",
    "**M**odeling:\n",
    "- Feature Select\n",
    "- OHE cat vars\n",
    "- transform cont vars\n",
    "- Fit the model\n",
    "- Check assumptions\n",
    "    - multicollinearity\n",
    "        - check variation inflation factors or heat map\n",
    "            -  variance inflation factor shows if there is multicollinearity between our variables\n",
    "            - vif of 5 or greater (or more definitively 10 or greater) are displaying multicollinearity with other variables\n",
    "            - removing multicollinear features may hurt model performance\n",
    "    - linearity\n",
    "        - check scatter matrix or joint plot\n",
    "    - normality\n",
    "        - QQ-plot or JB test\n",
    "    - homsocedasticity\n",
    "        - scatterplot or GQ test (assumes normality\n",
    "- repeat the process by building a model with different features or refining the current model\n",
    "\n",
    "I**N**terpret results:\n",
    "- Interpret statistics appropriately (R*2, errors, tests, coeffs, etc.)\n",
    "\n"
   ]
  },
  {
   "cell_type": "code",
   "execution_count": null,
   "metadata": {},
   "outputs": [],
   "source": []
  }
 ],
 "metadata": {
  "kernelspec": {
   "display_name": "Python 3",
   "language": "python",
   "name": "python3"
  },
  "language_info": {
   "codemirror_mode": {
    "name": "ipython",
    "version": 3
   },
   "file_extension": ".py",
   "mimetype": "text/x-python",
   "name": "python",
   "nbconvert_exporter": "python",
   "pygments_lexer": "ipython3",
   "version": "3.8.5"
  },
  "toc": {
   "base_numbering": 1,
   "nav_menu": {},
   "number_sections": false,
   "sideBar": true,
   "skip_h1_title": true,
   "title_cell": "Table of Contents",
   "title_sidebar": "Contents",
   "toc_cell": false,
   "toc_position": {
    "height": "calc(100% - 180px)",
    "left": "10px",
    "top": "150px",
    "width": "175.797px"
   },
   "toc_section_display": true,
   "toc_window_display": true
  }
 },
 "nbformat": 4,
 "nbformat_minor": 4
}

{
 "cells": [
  {
   "cell_type": "code",
   "execution_count": 1,
   "metadata": {
    "ExecuteTime": {
     "end_time": "2021-01-08T08:43:31.145222Z",
     "start_time": "2021-01-08T08:43:30.290697Z"
    }
   },
   "outputs": [],
   "source": [
    "import numpy as np"
   ]
  },
  {
   "cell_type": "markdown",
   "metadata": {},
   "source": [
    "PQ: eigen-things"
   ]
  },
  {
   "cell_type": "code",
   "execution_count": 26,
   "metadata": {
    "ExecuteTime": {
     "end_time": "2021-01-08T09:01:33.024117Z",
     "start_time": "2021-01-08T09:01:33.019684Z"
    }
   },
   "outputs": [
    {
     "data": {
      "text/plain": [
       "(array([1., 2.]),\n",
       " array([[1., 0.],\n",
       "        [0., 1.]]))"
      ]
     },
     "execution_count": 26,
     "metadata": {},
     "output_type": "execute_result"
    }
   ],
   "source": [
    "# 2\n",
    "ev2 = np.linalg.eig(np.array([[1,0],[0,2]]))\n",
    "ev2"
   ]
  },
  {
   "cell_type": "code",
   "execution_count": 31,
   "metadata": {
    "ExecuteTime": {
     "end_time": "2021-01-08T09:06:33.322245Z",
     "start_time": "2021-01-08T09:06:33.317324Z"
    }
   },
   "outputs": [
    {
     "data": {
      "text/plain": [
       "(array([3., 5.]),\n",
       " array([[1.        , 0.89442719],\n",
       "        [0.        , 0.4472136 ]]))"
      ]
     },
     "execution_count": 31,
     "metadata": {},
     "output_type": "execute_result"
    }
   ],
   "source": [
    "# 4\n",
    "ev4 = np.linalg.eig(np.array([[3,4],[0,5]]))\n",
    "ev4"
   ]
  },
  {
   "cell_type": "code",
   "execution_count": 32,
   "metadata": {
    "ExecuteTime": {
     "end_time": "2021-01-08T09:09:49.556945Z",
     "start_time": "2021-01-08T09:09:49.552297Z"
    }
   },
   "outputs": [
    {
     "data": {
      "text/plain": [
       "(array([4., 1.]),\n",
       " array([[0.        , 0.9486833 ],\n",
       "        [1.        , 0.31622777]]))"
      ]
     },
     "execution_count": 32,
     "metadata": {},
     "output_type": "execute_result"
    }
   ],
   "source": [
    "# 6\n",
    "ev6 = np.linalg.eig(np.array([[1,0],[-1,4]]))\n",
    "ev6"
   ]
  },
  {
   "cell_type": "code",
   "execution_count": 33,
   "metadata": {
    "ExecuteTime": {
     "end_time": "2021-01-08T09:12:46.128179Z",
     "start_time": "2021-01-08T09:12:46.123972Z"
    }
   },
   "outputs": [
    {
     "data": {
      "text/plain": [
       "(array([-5.,  5.]),\n",
       " array([[-0.9701425 , -0.70710678],\n",
       "        [ 0.24253563, -0.70710678]]))"
      ]
     },
     "execution_count": 33,
     "metadata": {},
     "output_type": "execute_result"
    }
   ],
   "source": [
    "# 8\n",
    "ev8 = np.linalg.eig(np.array([[-3,8],[2,3]]))\n",
    "ev8"
   ]
  },
  {
   "cell_type": "code",
   "execution_count": 35,
   "metadata": {
    "ExecuteTime": {
     "end_time": "2021-01-08T09:17:00.223173Z",
     "start_time": "2021-01-08T09:17:00.197397Z"
    }
   },
   "outputs": [
    {
     "data": {
      "text/plain": [
       "(array([1.+2.98023224e-08j, 1.-2.98023224e-08j]),\n",
       " array([[ 0.70710678+0.00000000e+00j,  0.70710678-0.00000000e+00j],\n",
       "        [-0.70710678+5.26835606e-09j, -0.70710678-5.26835606e-09j]]))"
      ]
     },
     "execution_count": 35,
     "metadata": {},
     "output_type": "execute_result"
    }
   ],
   "source": [
    "# 9\n",
    "ev9 = np.linalg.eig(np.array([[5,4],[-4,-3]]))\n",
    "ev9"
   ]
  },
  {
   "cell_type": "code",
   "execution_count": 36,
   "metadata": {
    "ExecuteTime": {
     "end_time": "2021-01-08T09:18:16.062285Z",
     "start_time": "2021-01-08T09:18:16.057627Z"
    }
   },
   "outputs": [
    {
     "data": {
      "text/plain": [
       "(array([-0.5+0.8660254j, -0.5-0.8660254j]),\n",
       " array([[ 0.8660254+0.j  ,  0.8660254-0.j  ],\n",
       "        [-0.4330127-0.25j, -0.4330127+0.25j]]))"
      ]
     },
     "execution_count": 36,
     "metadata": {},
     "output_type": "execute_result"
    }
   ],
   "source": [
    "# 10\n",
    "ev10 = np.linalg.eig(np.array([[-2,-3],[1,1]]))\n",
    "ev10"
   ]
  },
  {
   "cell_type": "markdown",
   "metadata": {},
   "source": [
    "<hr style=\"border:1px solid gray\"> </hr>\n",
    "\n",
    "PQ: Diagonalization and Applications"
   ]
  },
  {
   "cell_type": "code",
   "execution_count": 52,
   "metadata": {
    "ExecuteTime": {
     "end_time": "2021-01-08T10:09:34.920310Z",
     "start_time": "2021-01-08T10:09:34.915241Z"
    }
   },
   "outputs": [
    {
     "data": {
      "text/plain": [
       "(array([[ 6, -1],\n",
       "        [ 2,  3]]),\n",
       " array([[0.70710678, 0.4472136 ],\n",
       "        [0.70710678, 0.89442719]]),\n",
       " array([[ 2.82842712, -1.41421356],\n",
       "        [-2.23606798,  2.23606798]]),\n",
       " array([[5.0000000e+00, 8.8817842e-16],\n",
       "        [0.0000000e+00, 4.0000000e+00]]))"
      ]
     },
     "execution_count": 52,
     "metadata": {},
     "output_type": "execute_result"
    }
   ],
   "source": [
    "# 1\n",
    "T = np.array([[6,-1],[2,3]])\n",
    "C = np.linalg.eig(T)[1]\n",
    "invC = np.linalg.inv(C)\n",
    "D = invC @ T @ C\n",
    "T, C, invC, D"
   ]
  },
  {
   "cell_type": "code",
   "execution_count": 53,
   "metadata": {
    "ExecuteTime": {
     "end_time": "2021-01-08T10:10:49.127920Z",
     "start_time": "2021-01-08T10:10:49.122835Z"
    }
   },
   "outputs": [
    {
     "data": {
      "text/plain": [
       "(array([[ 2,  7],\n",
       "        [ 0, -1]]),\n",
       " array([[ 1.        , -0.91914503],\n",
       "        [ 0.        ,  0.3939193 ]]),\n",
       " array([[1.        , 2.33333333],\n",
       "        [0.        , 2.53859104]]),\n",
       " array([[ 2.0000000e+00, -4.4408921e-16],\n",
       "        [ 0.0000000e+00, -1.0000000e+00]]))"
      ]
     },
     "execution_count": 53,
     "metadata": {},
     "output_type": "execute_result"
    }
   ],
   "source": [
    "# 2\n",
    "T = np.array([[2,7],[0,-1]])\n",
    "C = np.linalg.eig(T)[1]\n",
    "invC = np.linalg.inv(C)\n",
    "D = invC @ T @ C\n",
    "T, C, invC, D"
   ]
  },
  {
   "cell_type": "code",
   "execution_count": 55,
   "metadata": {
    "ExecuteTime": {
     "end_time": "2021-01-08T10:13:52.237486Z",
     "start_time": "2021-01-08T10:13:52.232347Z"
    }
   },
   "outputs": [
    {
     "data": {
      "text/plain": [
       "(array([[ 1,  0],\n",
       "        [ 2, -1]]),\n",
       " array([[0.        , 0.70710678],\n",
       "        [1.        , 0.70710678]]),\n",
       " array([[-1.        ,  1.        ],\n",
       "        [ 1.41421356,  0.        ]]),\n",
       " array([[-1.,  0.],\n",
       "        [ 0.,  1.]]))"
      ]
     },
     "execution_count": 55,
     "metadata": {},
     "output_type": "execute_result"
    }
   ],
   "source": [
    "# 3\n",
    "T = np.array([[1,0],[2,-1]])\n",
    "C = np.linalg.eig(T)[1]\n",
    "invC = np.linalg.inv(C)\n",
    "D = invC @ T @ C\n",
    "T, C, invC, D"
   ]
  },
  {
   "cell_type": "code",
   "execution_count": 57,
   "metadata": {
    "ExecuteTime": {
     "end_time": "2021-01-08T10:19:51.791369Z",
     "start_time": "2021-01-08T10:19:51.786520Z"
    }
   },
   "outputs": [
    {
     "data": {
      "text/plain": [
       "(array([[1., 0.],\n",
       "        [0., 1.]]),\n",
       " array([[1, 2],\n",
       "        [0, 1]]),\n",
       " array([[ 1., -2.],\n",
       "        [ 0.,  1.]]),\n",
       " array([[1., 0.],\n",
       "        [0., 1.]]))"
      ]
     },
     "execution_count": 57,
     "metadata": {},
     "output_type": "execute_result"
    }
   ],
   "source": [
    "# 4\n",
    "C = np.array([[1,2],[0,1]])\n",
    "invC = np.linalg.inv(C)\n",
    "D = np.identity(2)\n",
    "T = C @ D @ invC\n",
    "T, C, invC, D"
   ]
  },
  {
   "cell_type": "code",
   "execution_count": 59,
   "metadata": {
    "ExecuteTime": {
     "end_time": "2021-01-08T10:24:04.879377Z",
     "start_time": "2021-01-08T10:24:04.791740Z"
    }
   },
   "outputs": [
    {
     "data": {
      "text/plain": [
       "(array([[ 6., -1.],\n",
       "        [ 2.,  3.]]),\n",
       " array([[1, 1],\n",
       "        [1, 2]]),\n",
       " array([[ 2., -1.],\n",
       "        [-1.,  1.]]),\n",
       " array([[5, 0],\n",
       "        [0, 4]]))"
      ]
     },
     "execution_count": 59,
     "metadata": {},
     "output_type": "execute_result"
    }
   ],
   "source": [
    "# 5\n",
    "C = np.array([[1,1],[1,2]])\n",
    "invC = np.linalg.inv(C)\n",
    "D = np.array([[5,0],[0,4]])\n",
    "T = C @ D @ invC\n",
    "T, C, invC, D"
   ]
  },
  {
   "cell_type": "code",
   "execution_count": 64,
   "metadata": {
    "ExecuteTime": {
     "end_time": "2021-01-08T10:29:33.593401Z",
     "start_time": "2021-01-08T10:29:33.589006Z"
    }
   },
   "outputs": [
    {
     "data": {
      "text/plain": [
       "(array([[186., -61.],\n",
       "        [122.,   3.]]),\n",
       " array([[216.,  -1.],\n",
       "        [  8.,  27.]]),\n",
       " array([[186., -61.],\n",
       "        [122.,   3.]]))"
      ]
     },
     "execution_count": 64,
     "metadata": {},
     "output_type": "execute_result"
    }
   ],
   "source": [
    "T3 = C @ D ** 3 @ invC\n",
    "T3, T ** 3, T @ T @ T"
   ]
  },
  {
   "cell_type": "code",
   "execution_count": 65,
   "metadata": {
    "ExecuteTime": {
     "end_time": "2021-01-08T10:30:44.695752Z",
     "start_time": "2021-01-08T10:30:44.690289Z"
    }
   },
   "outputs": [
    {
     "data": {
      "text/plain": [
       "(array([[ 2.,  7.],\n",
       "        [ 0., -1.]]),\n",
       " array([[ 7,  1],\n",
       "        [-3,  0]]),\n",
       " array([[ 0.        , -0.33333333],\n",
       "        [ 1.        ,  2.33333333]]),\n",
       " array([[-1,  0],\n",
       "        [ 0,  2]]),\n",
       " array([[ 8., 21.],\n",
       "        [ 0., -1.]]))"
      ]
     },
     "execution_count": 65,
     "metadata": {},
     "output_type": "execute_result"
    }
   ],
   "source": [
    "# 6\n",
    "C = np.array([[7,1],[-3,0]])\n",
    "invC = np.linalg.inv(C)\n",
    "D = np.array([[-1,0],[0,2]])\n",
    "T = C @ D @ invC\n",
    "T, C, invC, D, T @ T @ T"
   ]
  },
  {
   "cell_type": "code",
   "execution_count": 66,
   "metadata": {
    "ExecuteTime": {
     "end_time": "2021-01-08T10:32:01.343058Z",
     "start_time": "2021-01-08T10:32:01.337764Z"
    }
   },
   "outputs": [
    {
     "data": {
      "text/plain": [
       "(array([[ 1.,  0.],\n",
       "        [ 2., -1.]]),\n",
       " array([[1, 0],\n",
       "        [1, 1]]),\n",
       " array([[ 1.,  0.],\n",
       "        [-1.,  1.]]),\n",
       " array([[ 1,  0],\n",
       "        [ 0, -1]]),\n",
       " array([[ 1.,  0.],\n",
       "        [ 2., -1.]]))"
      ]
     },
     "execution_count": 66,
     "metadata": {},
     "output_type": "execute_result"
    }
   ],
   "source": [
    "# 7\n",
    "C = np.array([[1,0],[1,1]])\n",
    "invC = np.linalg.inv(C)\n",
    "D = np.array([[1,0],[0,-1]])\n",
    "T = C @ D @ invC\n",
    "T, C, invC, D, T @ T @ T @ T @ T"
   ]
  },
  {
   "cell_type": "markdown",
   "metadata": {},
   "source": []
  }
 ],
 "metadata": {
  "kernelspec": {
   "display_name": "Python 3",
   "language": "python",
   "name": "python3"
  },
  "language_info": {
   "codemirror_mode": {
    "name": "ipython",
    "version": 3
   },
   "file_extension": ".py",
   "mimetype": "text/x-python",
   "name": "python",
   "nbconvert_exporter": "python",
   "pygments_lexer": "ipython3",
   "version": "3.8.5"
  },
  "toc": {
   "base_numbering": 1,
   "nav_menu": {},
   "number_sections": true,
   "sideBar": true,
   "skip_h1_title": true,
   "title_cell": "Table of Contents",
   "title_sidebar": "Contents",
   "toc_cell": false,
   "toc_position": {},
   "toc_section_display": true,
   "toc_window_display": false
  }
 },
 "nbformat": 4,
 "nbformat_minor": 4
}

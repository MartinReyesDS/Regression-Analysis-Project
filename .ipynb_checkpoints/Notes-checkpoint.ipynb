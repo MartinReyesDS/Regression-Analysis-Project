{
 "cells": [
  {
   "cell_type": "markdown",
   "metadata": {},
   "source": [
    "# Notes on Topic 18 and 19"
   ]
  },
  {
   "cell_type": "markdown",
   "metadata": {},
   "source": [
    "## Topic 18 Intro to Ling Reg"
   ]
  },
  {
   "cell_type": "markdown",
   "metadata": {},
   "source": [
    "#### Coeff. of Deter.\n",
    "- \"R-Squared\": =statistical **measure** that is used to assess the **goodness of fit** of a regression model\n",
    "- R^2% of the variations in y are explained by the X in our model."
   ]
  },
  {
   "cell_type": "markdown",
   "metadata": {},
   "source": [
    "#### Regression Lab"
   ]
  },
  {
   "cell_type": "code",
   "execution_count": null,
   "metadata": {
    "ExecuteTime": {
     "end_time": "2021-01-13T15:11:02.727029Z",
     "start_time": "2021-01-13T15:11:02.724399Z"
    }
   },
   "outputs": [],
   "source": [
    "def plot_reg(X, Y, Y_pred):\n",
    "    plt.scatter(X, Y, label='data')\n",
    "    plt.plot(X, Y_pred, label='regression line')"
   ]
  },
  {
   "cell_type": "markdown",
   "metadata": {},
   "source": [
    "#### Assumptions for LinReg\n",
    "- Linearity: requires that there is a linear relationship between y and X. Linear means that the change in Y by 1-unit change in X, is constant\n",
    "    - Can best be tested with scatter plots\n",
    "- Normality: model residuals should follow a normal distribution\n",
    "    - Check with histograms or a Q-Q-Plots\n",
    "- Homoscedasticity (AKA homoskedasticity): y's variability is equal across the range of values of X\n",
    "    - Check with scatter plot with y on y-axis, or use significance tests like Breusch-Pagan / Cook-Weisberg test or White general test to detect this phenomenon. Remember that, if these tests give you a p-value < 0.05, the null hypothesis can rejected, and you can assume the data is heteroscedastic.\n",
    "- chek for Linearity and Homoscedasticity in the residuals as well."
   ]
  },
  {
   "cell_type": "markdown",
   "metadata": {},
   "source": [
    "#### OLS in Statsmodels\n",
    "- for model summary shown on bottom of this page\n",
    "- sm.graphics.plot_regress_exog(model, \"height\", fig=fig) plots shown on bottom of page"
   ]
  },
  {
   "cell_type": "code",
   "execution_count": null,
   "metadata": {},
   "outputs": [],
   "source": [
    "import pandas as pd\n",
    "import matplotlib.pyplot as plt\n",
    "\n",
    "from statsmodels.formula.api import ols\n",
    "model = ols(formula=f, data=df).fit()\n",
    "model.summary()\n",
    "\n",
    "import statsmodels.api as sm\n",
    "fig = plt.figure(figsize=(15,8))\n",
    "fig = sm.graphics.plot_regress_exog(model, \"height\", fig=fig)\n",
    "# This plots four graphs in a 2 by 2 figure: ‘endog versus exog’,\n",
    "# ‘residuals versus exog’, ‘fitted versus exog’ and ‘fitted plus residual versus exog’\n",
    "\n",
    "import scipy.stats as stats\n",
    "residuals = model.resid\n",
    "fig = sm.graphics.qqplot(residuals, dist=stats.norm, line='45', fit=True)"
   ]
  },
  {
   "cell_type": "markdown",
   "metadata": {},
   "source": [
    "#### OLS in Statsmodels Lab\n",
    "- Step 1: Read the dataset and inspect its columns and 5-point statistics\n",
    "- Step 2: Plot histograms with kde overlay to check the distribution of the predictors\n",
    "- Step 3: Test for the linearity assumption \n",
    "- Step 4: Run a simple regression in Statsmodels with TV as a predictor and get Reg Diagnostics summary\n",
    "- Step 5: Draw a prediction line with data points on a scatter plot for X (TV) and Y (Sales)\n",
    "- Step 6: Visualize the error term for variance and heteroscedasticity\n",
    "- Step 7: Check the normality assumptions by creating a QQ-plot\n",
    "- Step 8: Repeat the above for radio and record your observations"
   ]
  },
  {
   "cell_type": "code",
   "execution_count": null,
   "metadata": {
    "ExecuteTime": {
     "end_time": "2021-01-13T15:39:57.097380Z",
     "start_time": "2021-01-13T15:39:56.554038Z"
    }
   },
   "outputs": [],
   "source": [
    "# Step 2\n",
    "for column in data:\n",
    "    data[column].plot.hist(density=True, label = column+' histogram')\n",
    "    data[column].plot.kde(label =column+' kde')\n",
    "    plt.legend()\n",
    "\n",
    "# Step 3\n",
    "fig, axs = plt.subplots(1, 3, sharey=True, figsize=(18, 6))\n",
    "for idx, channel in enumerate(['TV', 'radio', 'newspaper']):\n",
    "    data.plot(kind='scatter', x=channel, y='sales', ax=axs[idx], label=channel)\n",
    "plt.legend()\n",
    "\n",
    "# Step 4\n",
    "import statsmodels.formula.api as smf\n",
    "# create a fitted model in one line\n",
    "model = smf.ols(formula=f, data=data).fit()\n",
    "model.summary()\n",
    "\n",
    "# Step 5\n",
    "# create a DataFrame with the minimum and maximum values of TV\n",
    "X_new = pd.DataFrame({'TV': [data.TV.min(), data.TV.max()]})\n",
    "print(X_new.head())\n",
    "# make predictions for those x values and store them\n",
    "preds = model.predict(X_new)\n",
    "# first, plot the observed data and the least squares line\n",
    "data.plot(kind='scatter', x='TV', y='sales')\n",
    "plt.plot(X_new, preds, c='red', linewidth=2)\n",
    "\n",
    "# Step 6\n",
    "fig = plt.figure(figsize=(15,8))\n",
    "fig = sm.graphics.plot_regress_exog(model, \"TV\", fig=fig)\n",
    "\n",
    "# Step 7\n",
    "residuals = model.resid\n",
    "fig = sm.graphics.qqplot(residuals, dist=stats.norm, line='45', fit=True)"
   ]
  },
  {
   "cell_type": "markdown",
   "metadata": {},
   "source": [
    "#### Regression Diagnostics in Statsmodels\n",
    "- Normality check Q-Q plots (AKA normal density plots)\n",
    "    - can relate q-q plots to hist/kde's\n",
    "- Normality check (Jarque-Bera Test)\n",
    "    - inspects the skewness and kurtosis of data to see if it matches a normal distribution\n",
    "    - Q-Q Plots can become unreliable when your sample size is large\n",
    "    - Null Hypo is Normality\n",
    "- Heteroscedasticity check (Goldfeld-Quandt test AKA GQ test)\n",
    "    - used in regression analysis to check for homoscedasticity in the error terms\n",
    "    - checks if you can define a point that can be used to **differentiate** the variance of the error term\n",
    "    - assumes data is normally distributed, so check before\n",
    "    - null hypothesis is homoscedasticity, larger F-stat means more evidence against null hypothesis and more likely we see different variance for the two groups\n",
    "    - Null Hypo is Homoscedasticity\n",
    "- Heteroscedasticity check (Breush-Pagan Test and White’s Test)\n",
    "    - Statsmodel also offers newer tests for heteroscadasticity including the [Breush-Pagan Test](https://www.statsmodels.org/devel/generated/statsmodels.stats.diagnostic.het_breuschpagan.html) and [White’s Test](https://www.statsmodels.org/dev/generated/statsmodels.stats.diagnostic.het_white.html#statsmodels.stats.diagnostic.het_white) which may be advantageous in certain cases."
   ]
  },
  {
   "cell_type": "code",
   "execution_count": null,
   "metadata": {},
   "outputs": [],
   "source": [
    "# JB test for TV/ How to run JB test on its own\n",
    "name = ['Jarque-Bera','Prob','Skew', 'Kurtosis']\n",
    "test = sms.jarque_bera(model.resid)\n",
    "list(zip(name, test))"
   ]
  },
  {
   "cell_type": "markdown",
   "metadata": {},
   "source": [
    "In the image below, you can see how observations are split into two groups. Next, a test statistic is run through taking the ratio of mean square residual errors for the regressions on the two subsets. Evidence of heteroscedasticity is based on performing a hypothesis test (more on this later) as shown in the image.\n"
   ]
  },
  {
   "cell_type": "code",
   "execution_count": null,
   "metadata": {},
   "outputs": [],
   "source": [
    "lwr_thresh = data.TV.quantile(q=.45)\n",
    "upr_thresh = data.TV.quantile(q=.55)\n",
    "middle_10percent_indices = data[(data.TV >= lwr_thresh) & (data.TV<=upr_thresh)].index\n",
    "# len(middle_10percent_indices)\n",
    "\n",
    "indices = [x-1 for x in data.index if x not in middle_10percent_indices]\n",
    "plt.scatter(data.TV.iloc[indices], model.resid.iloc[indices])\n",
    "plt.xlabel('TV')\n",
    "plt.ylabel('Model Residuals')\n",
    "plt.title(\"Residuals versus TV Feature\")\n",
    "plt.vlines(lwr_thresh, ymax=8, ymin=-8, linestyles='dashed',linewidth=2)\n",
    "plt.vlines(upr_thresh, ymax=8, ymin=-8, linestyles='dashed',linewidth=2);"
   ]
  },
  {
   "cell_type": "markdown",
   "metadata": {},
   "source": [
    "Here is a brief description of the steps involved:\n",
    "\n",
    "* Order the data in ascending order \n",
    "* Split your data into _three_ parts and drop values in the middle part.\n",
    "* Run separate regression analyses on two parts. After each regression, find the Residual Sum of Squares.\n",
    "* Calculate the ratio of the Residual sum of squares of two parts.\n",
    "* Apply the F-test. \n",
    "\n",
    "[Here](https://en.wikipedia.org/wiki/F-test) is a quick introduction to F-test\n",
    "\n",
    "For now, you should just remember that high F values typically indicate that the variances are different. If the error term is homoscedastic, there should be no systematic difference between residuals and F values will be small.\n",
    "However, if the standard deviation of the distribution of the error term is proportional to the x variable, one part will generate a higher sum of square values than the other."
   ]
  },
  {
   "cell_type": "code",
   "execution_count": null,
   "metadata": {},
   "outputs": [],
   "source": [
    "# Run Goldfeld Quandt test\n",
    "name = ['F statistic', 'p-value']\n",
    "test = sms.het_goldfeldquandt(model.resid.iloc[indices], model.model.exog[indices])\n",
    "list(zip(name, test))"
   ]
  },
  {
   "cell_type": "markdown",
   "metadata": {},
   "source": [
    "#### Interpreting Significance and P-values \n",
    "\n",
    "##### Hypothesis Testing in Regression \n",
    "\n",
    "During regression, you try to measure the model parameters (coefficients). The null and alternative hypotheses are also set up in those terms.\n",
    "- **Null Hypothesis ($H_0$)**: There is no relationship between X and y\n",
    "\n",
    "- **Alternative Hypothesis ($H_a$):** There is \"some\" relation between X and y\n",
    "\n",
    "- p-value as a level of statistical significance\n",
    "    - represents a **probability of observing your results (or something more extreme) given that the null hypothesis is true** and the probability that the coefficient is actually zero"
   ]
  },
  {
   "cell_type": "code",
   "execution_count": null,
   "metadata": {},
   "outputs": [],
   "source": [
    "# Found in model summary P > |t|"
   ]
  },
  {
   "cell_type": "markdown",
   "metadata": {},
   "source": [
    "## Topic 19 Multi Lin Reg"
   ]
  },
  {
   "cell_type": "markdown",
   "metadata": {},
   "source": [
    "#### MLR\n",
    "- $$ \\hat y = \\hat\\beta_0 + \\hat\\beta_1 x_1 + \\hat\\beta_2 x_2 +\\ldots + \\hat\\beta_n x_n $$\n",
    "- fitted line, slope parameters, intercept"
   ]
  },
  {
   "cell_type": "markdown",
   "metadata": {},
   "source": [
    "#### Dealing with Cat Vars\n",
    "- Identifying Cat Vars\n",
    "- Transforming Cat Vars\n",
    "    - Label encoding: represent labels as numbers\n",
    "    - Creating Dummy Vars / One Hot Encoding: create each category into a new column and have 1 or 0 (required)"
   ]
  },
  {
   "cell_type": "code",
   "execution_count": null,
   "metadata": {},
   "outputs": [],
   "source": [
    "# scatter matrix (usually done on con. vars.)\n",
    "pd.plotting.scatter_matrix(data, figsize=(12,15));\n",
    "# indidual scattter plots with y on y-axis\n",
    "import matplotlib.pyplot as plt\n",
    "fig, axes = plt.subplots(nrows=1, ncols=4, figsize=(16,3))\n",
    "for xcol, ax in zip(['acceleration', 'displacement', 'horsepower', 'weight'], axes):\n",
    "    data.plot(kind='scatter', x=xcol, y='mpg', ax=ax, alpha=0.4, color='b')\n",
    "# histograms\n",
    "import warnings\n",
    "warnings.filterwarnings('ignore')\n",
    "fig = plt.figure(figsize = (8,8))\n",
    "ax = fig.gca()\n",
    "data.hist(ax = ax);\n",
    "\n",
    "# Label Encoding\n",
    "origin = ['USA', 'EU', 'EU', 'ASIA','USA', 'EU', 'EU', 'ASIA', 'ASIA', 'USA']\n",
    "origin_series = pd.Series(origin).astype('category')\n",
    "origin_series.cat.codes\n",
    "# or \n",
    "from sklearn.preprocessing import LabelEncoder\n",
    "lb_make = LabelEncoder()\n",
    "origin_encoded = lb_make.fit_transform(origin_series) # .astype('category') not required\n",
    "\n",
    "# Creating Dummy Vars (w/o avoiding DV trap)\n",
    "pd.get_dummies(origin_series)\n",
    "# or\n",
    "from sklearn.preprocessing import LabelBinarizer\n",
    "\n",
    "lb = LabelBinarizer()\n",
    "origin_dummies = lb.fit_transform(origin_series)\n",
    "# You need to convert this back to a dataframe\n",
    "origin_dum_df = pd.DataFrame(origin_dummies,columns=lb.classes_)\n",
    "origin_dum_df\n",
    "\n",
    "# Creating Dummy Vars (avoiding DV trap)\n",
    "pd.get_dummies(origin_series, drop_first=True)\n",
    "# The dropped category becomes the reference category. The coeffs resulting\n",
    "# from remaining variables represent the change relative to the reference."
   ]
  },
  {
   "cell_type": "markdown",
   "metadata": {},
   "source": [
    "#### Dealing with Cat Vars Lab"
   ]
  },
  {
   "cell_type": "code",
   "execution_count": null,
   "metadata": {},
   "outputs": [],
   "source": [
    "# Picking and plotting cat vars with y on y-axis\n",
    "import matplotlib.pyplot as plt\n",
    "fig, axes = plt.subplots(nrows=2, ncols=3, figsize=(16,10), sharey=True)\n",
    "categoricals = ['BldgType', 'KitchenQual', 'SaleType', 'MSZoning', 'Street', 'Neighborhood']\n",
    "for col, ax in zip(categoricals, axes.flatten()):\n",
    "    (ames.groupby(col)               # group values together by column of interest\n",
    "         .mean()['SalePrice']        # take the mean of the saleprice for each group\n",
    "         .sort_values()              # sort the groups in ascending order\n",
    "         .plot\n",
    "         .bar(ax=ax))                # create a bar graph on the ax\n",
    "    ax.set_title(col)\n",
    "fig.tight_layout()\n",
    "# Create dummy variables for your six categorical features\n",
    "dummies = pd.get_dummies(ames[categoricals], prefix=categoricals, drop_first=True)\n",
    "ames_preprocessed = ames.drop(categoricals, axis=1)\n",
    "ames_preprocessed = pd.concat([ames_preprocessed, dummies], axis=1)\n",
    "ames_preprocessed.head()"
   ]
  },
  {
   "cell_type": "markdown",
   "metadata": {},
   "source": [
    "#### Multicollinearity\n",
    "- Identifying multicollinearity:\n",
    "- address (drop necessary columns)"
   ]
  },
  {
   "cell_type": "code",
   "execution_count": null,
   "metadata": {},
   "outputs": [],
   "source": [
    "# indetifying multicollinearity\n",
    "pd.plotting.scatter_matrix(data_pred,figsize  = [9, 9]);\n",
    "# or \n",
    "# save absolute value of correlation matrix as a data frame\n",
    "# converts all values to absolute value\n",
    "# stacks the row:column pairs into a multindex\n",
    "# reset the index to set the multindex to seperate columns\n",
    "# sort values. 0 is the column automatically generated by the stacking\n",
    "df=data_pred.corr().abs().stack().reset_index().sort_values(0, ascending=False)\n",
    "# zip the variable name columns (Which were only named level_0 and level_1 by default) in a new column named \"pairs\"\n",
    "df['pairs'] = list(zip(df.level_0, df.level_1))\n",
    "# set index to pairs\n",
    "df.set_index(['pairs'], inplace = True)\n",
    "#d rop level columns\n",
    "df.drop(columns=['level_1', 'level_0'], inplace = True)\n",
    "# rename correlation column as cc rather than 0\n",
    "df.columns = ['cc']\n",
    "# drop duplicates. This could be dangerous if you have variables perfectly correlated with variables other than themselves.\n",
    "df.drop_duplicates(inplace=True)\n",
    "df[(df.cc>.75) & (df.cc <1)]\n",
    "# or \n",
    "abs(ames_preprocessed.corr()) > 0.75 # or annotated heat map\n",
    "# or \n",
    "import seaborn as sns\n",
    "sns.heatmap(data_pred.corr(), center=0); # coolwarm cmap and true annot"
   ]
  },
  {
   "cell_type": "markdown",
   "metadata": {},
   "source": [
    "#### Log Trans\n",
    "- helps x's approach normality"
   ]
  },
  {
   "cell_type": "code",
   "execution_count": null,
   "metadata": {},
   "outputs": [],
   "source": [
    "non_normal = ['displacement', 'horsepower', 'weight']\n",
    "for feat in non_normal:\n",
    "    data[feat] = data[feat].map(lambda x: np.log(x))\n",
    "pd.plotting.scatter_matrix(data[x_cols], figsize=(10,12));"
   ]
  },
  {
   "cell_type": "markdown",
   "metadata": {},
   "source": [
    "#### Feature Scaling and Normalization\n",
    "- Popular transformations listed at the bottom"
   ]
  },
  {
   "cell_type": "code",
   "execution_count": null,
   "metadata": {},
   "outputs": [],
   "source": [
    "acc = data['acceleration']\n",
    "disp = data['displacement']\n",
    "horse = data['horse']\n",
    "weight = data['weight']\n",
    "\n",
    "minmax_acc = (acc - min(acc)) / (max(acc) - min(acc)) # min max scaling\n",
    "log_disp = np.log(disp)\n",
    "standard_weight = (weight - np.mean(weight)) / np.sqrt(np.var(weight)) # standardization\n",
    "meannorm_scaled_horse = (horse - np.mean(horse)) / (max(horse) - min(horse)) # mean normalization\n",
    "\n",
    "data_scaled['acc'] = minmax_acc\n",
    "data_scaled['disp'] = log_disp\n",
    "data_scaled['horse'] = scaled_horse\n",
    "data_scaled['weight'] = standard_weight\n",
    "data_scaled.hist(figsize = [6, 6]);"
   ]
  },
  {
   "cell_type": "markdown",
   "metadata": {},
   "source": [
    "#### Feature Scaling and Normalization Lab\n",
    "- Look at hists for cont vars"
   ]
  },
  {
   "cell_type": "code",
   "execution_count": null,
   "metadata": {},
   "outputs": [],
   "source": [
    "con_data = ames.loc[:, ((ames.dtypes != 'object') & (ames.nunique() > 20))]\n",
    "fig, axes = plt.subplots(nrows=(con_data.shape[1] // 3), ncols=3, figsize=(16,40))\n",
    "convars = [column for column in con_data.columns if column != 'Id']\n",
    "for col, ax in zip(convars, axes.flatten()):\n",
    "    ax.hist(ames[col].dropna(), bins='auto')\n",
    "    ax.set_title(col)  \n",
    "fig.tight_layout()\n",
    "# Select non zero-inflated continuous features as ames_cont\n",
    "ames_cont = ames[['LotFrontage', 'LotArea', 'YearBuilt', '1stFlrSF', 'GrLivArea', 'SalePrice']]\n",
    "ames_cont.hist(figsize  = [8, 8], bins='auto');\n",
    "# Perform log trans\n",
    "import numpy as np\n",
    "log_names = [f'{column}_log' for column in ames_cont.columns]\n",
    "ames_log = np.log(ames_cont)\n",
    "ames_log.columns = log_names\n",
    "ames_log.hist(figsize=(10, 10), bins='auto')\n",
    "fig.tight_layout();\n",
    "# standardize\n",
    "def standardize(feature):\n",
    "    return (feature - feature.mean()) / feature.std()\n",
    "features_final = ames_log.apply(standardize)\n",
    "features_final.hist(figsize  = [8, 8], bins='auto');"
   ]
  },
  {
   "cell_type": "markdown",
   "metadata": {},
   "source": [
    "#### MLR in Statsmodels\n",
    "- \"R-Squared\": =statistical **measure** that is used to assess the **goodness of fit** of a regression model\n",
    "- R^2% of the variations in y are explained by the X in our model."
   ]
  },
  {
   "cell_type": "code",
   "execution_count": null,
   "metadata": {},
   "outputs": [],
   "source": []
  },
  {
   "cell_type": "markdown",
   "metadata": {},
   "source": [
    "#### Coeff. of Deter.\n",
    "- \"R-Squared\": =statistical **measure** that is used to assess the **goodness of fit** of a regression model\n",
    "- R^2% of the variations in y are explained by the X in our model."
   ]
  },
  {
   "cell_type": "code",
   "execution_count": null,
   "metadata": {},
   "outputs": [],
   "source": []
  },
  {
   "cell_type": "markdown",
   "metadata": {},
   "source": [
    "#### Coeff. of Deter.\n",
    "- \"R-Squared\": =statistical **measure** that is used to assess the **goodness of fit** of a regression model\n",
    "- R^2% of the variations in y are explained by the X in our model."
   ]
  },
  {
   "cell_type": "code",
   "execution_count": null,
   "metadata": {},
   "outputs": [],
   "source": []
  },
  {
   "cell_type": "markdown",
   "metadata": {},
   "source": [
    "#### Coeff. of Deter.\n",
    "- \"R-Squared\": =statistical **measure** that is used to assess the **goodness of fit** of a regression model\n",
    "- R^2% of the variations in y are explained by the X in our model."
   ]
  },
  {
   "cell_type": "code",
   "execution_count": null,
   "metadata": {},
   "outputs": [],
   "source": []
  },
  {
   "cell_type": "code",
   "execution_count": null,
   "metadata": {},
   "outputs": [],
   "source": []
  },
  {
   "cell_type": "code",
   "execution_count": null,
   "metadata": {},
   "outputs": [],
   "source": []
  },
  {
   "cell_type": "markdown",
   "metadata": {},
   "source": [
    "## Extra Notes"
   ]
  },
  {
   "cell_type": "markdown",
   "metadata": {},
   "source": [
    "#### model.summary()\n",
    "\n",
    "Here is a brief description of these measures:\n",
    "\n",
    "The left part of the first table gives some specifics on the data and the model:\n",
    "\n",
    "* **Dep. Variable**: Singular. Which variable is the point of interest of the model\n",
    "* **Model**: Technique used, an abbreviated version of Method (see methods for more).\n",
    "* **Method**: The loss function optimized in the parameter selection process. Least Squares since it picks the parameters that reduce the training error. This is also known as Mean Square Error [MSE].\n",
    "* **No. Observations**: The number of observations used by the model, or size of the training data.\n",
    "* **Degrees of Freedom Residuals**: Degrees of freedom of the residuals, which is the number of observations – number of parameters. Intercept is a parameter. The purpose of Degrees of Freedom is to reflect the impact of descriptive/summarizing statistics in the model, which in regression is the coefficient. Since the observations must \"live up\" to these parameters, they only have so many free observations, and the rest must be reserved to \"live up\" to the parameters' prophecy. This internal mechanism ensures that there are enough observations to match the parameters.\n",
    "* **Degrees of Freedom Model**: The number of parameters in the model (not including the constant/intercept term if present)\n",
    "* **Covariance Type**: Robust regression methods are designed to be not overly affected by violations of assumptions by the underlying data-generating process. Since this model is Ordinary Least Squares, it is non-robust and therefore highly sensitive to outliers.\n",
    "\n",
    "The right part of the first table shows the goodness of fit: \n",
    "\n",
    "* **R-squared**: The coefficient of determination, the Sum Squares of Regression divided by Total Sum Squares. This translates to the percent of variance explained by the model. The remaining percentage represents the variance explained by error, the E term, the part that model and predictors fail to grasp.\n",
    "* **Adj. R-squared**: Version of the R-Squared that penalizes additional independent variables. \n",
    "* **F-statistic**: A measure of how significant the fit is. The mean squared error of the model divided by the mean squared error of the residuals. Feeds into the calculation of the P-Value.\n",
    "* **Prob (F-statistic) or P-Value**: The probability that a sample like this would yield the above statistic, and whether the model's verdict on the null hypothesis will consistently represent the population. Does not measure effect magnitude, instead measures the integrity and consistency of this test on this group of data.\n",
    "* **Log-likelihood**: The log of the likelihood function.\n",
    "* **AIC**: The Akaike Information Criterion. Adjusts the log-likelihood based on the number of observations and the complexity of the model. Penalizes the model selection metrics when more independent variables are added.\n",
    "* **BIC**: The Bayesian Information Criterion. Similar to the AIC, but has a higher penalty for models with more parameters. Penalizes the model selection metrics when more independent variables are added.\n",
    "\n",
    "The second table shows the coefficient report: \n",
    "\n",
    "* **coef**: The estimated value of the coefficient. By how much the model multiplies the independent value by.\n",
    "* **std err**: The basic standard error of the estimate of the coefficient. Average distance deviation of the points from the model, which offers a unit relevant way to gauge model accuracy.\n",
    "* **t**: The t-statistic value. This is a measure of how statistically significant the coefficient is.\n",
    "* **P > |t|**: P-value that the null-hypothesis that the coefficient = 0 is true. If it is less than the confidence level, often 0.05, it indicates that there is a statistically significant relationship between the term and the response.\n",
    "* **[95.0% Conf. Interval]**: The lower and upper values of the 95% confidence interval. Specific range of the possible coefficient values.\n",
    "\n",
    "The third table shows information about the residuals, autocorrelation, and multicollinearity: \n",
    "\n",
    "* **Skewness**: A measure of the symmetry of the data about the mean. Normally-distributed errors should be symmetrically distributed about the mean (equal amounts above and below the line). The normal distribution has 0 skew.\n",
    "* **Kurtosis**: A measure of the shape of the distribution. Compares the amount of data close to the mean with those far away from the mean (in the tails), so model \"peakiness\". The normal distribution has a Kurtosis of 3, and the greater the number, the more the curve peaks.\n",
    "* **Omnibus D’Angostino’s test**: Provides a combined statistical test for the presence of skewness and kurtosis.\n",
    "* **Prob(Omnibus)**: The above statistic turned into a probability\n",
    "* **Jarque-Bera**: A different test of the skewness and kurtosis\n",
    "* **Prob (JB)**: The above statistic turned into a probability\n",
    "* **Durbin-Watson**: A test for the presence of autocorrelation (that the errors are not independent), which is often important in time-series analysis\n",
    "* **Cond. No**: A test for multicollinearity (if in a fit with multiple parameters, the parameters are related to each other).\n"
   ]
  },
  {
   "cell_type": "markdown",
   "metadata": {},
   "source": [
    "#### fig = sm.graphics.plot_regress_exog(model, \"height\", fig=fig)\n",
    "\n",
    "For the four graphs we see above:\n",
    "\n",
    "* The **Y and Fitted vs. X** graph plots the dependent variable against our predicted values with a confidence interval. The positive relationship shows that height and weight are correlated, i.e., when one variable increases the other increases.\n",
    "\n",
    "* The **Residuals versus height** graph shows our model's errors versus the specified predictor variable. Each dot is an observed value; the line represents the mean of those observed values. Since there's no pattern in the distance between the dots and the mean value, the OLS assumption of homoskedasticity holds.\n",
    "\n",
    "* The **Partial regression plot** shows the relationship between height and weight, taking in to account the impact of adding other independent variables on our existing height coefficient. You'll later learn how this same graph changes when you add more variables.\n",
    "\n",
    "* The **Component and Component Plus Residual (CCPR)** plot is an extension of the partial regression plot. It shows where the trend line would lie after adding the impact of adding our other independent variables on the weight."
   ]
  },
  {
   "cell_type": "markdown",
   "metadata": {},
   "source": [
    "#### Extra code"
   ]
  },
  {
   "cell_type": "code",
   "execution_count": null,
   "metadata": {},
   "outputs": [],
   "source": [
    "pd.options.display.max_columns = 999\n",
    "pd.options.display.max_rows = 999"
   ]
  },
  {
   "cell_type": "markdown",
   "metadata": {},
   "source": [
    "#### Popular Transformations\n",
    "Log transformation\n",
    "\n",
    "As seen in the previous lesson, a log transformation is a very useful tool when you have data that clearly does not follow a normal distribution. Log transformation can help reduce skewness when you have skewed data, and can help reducing variability of data. \n",
    "\n",
    "\n",
    "Min-max scaling\n",
    "\n",
    "When performing min-max scaling, you can transform x to get the transformed $x'$ by using the formula:\n",
    "\n",
    "$$x' = \\dfrac{x - \\min(x)}{\\max(x)-\\min(x)}$$\n",
    "\n",
    "This way of scaling brings all values between 0 and 1. \n",
    "\n",
    "Standardization\n",
    "\n",
    "When \n",
    "\n",
    "$$x' = \\dfrac{x - \\bar x}{\\sigma}$$\n",
    "\n",
    "x' will have mean $\\mu = 0$ and $\\sigma = 1$\n",
    "\n",
    "Note that standardization does not make data $more$ normal, it will just change the mean and the standard error!\n",
    "\n",
    "Mean normalization\n",
    "When performing mean normalization, you use the following formula:\n",
    "$$x' = \\dfrac{x - \\text{mean}(x)}{\\max(x)-\\min(x)}$$\n",
    "\n",
    "The distribution will have values between -1 and 1, and a mean of 0.\n",
    "\n",
    "Unit vector transformation\n",
    " When performing unit vector transformations, you can create a new variable x' with a range [0,1]:\n",
    " \n",
    "$$x'= \\dfrac{x}{{||x||}}$$\n",
    "\n",
    "\n",
    "Recall that the norm of x $||x||= \\sqrt{(x_1^2+x_2^2+...+x_n^2)}$\n",
    "\n",
    "Scikit-learn provides automatic tools to scale features, see, among others, `MinMaxScaler`, `StandardScaler`, \n",
    "and `Normalizer`. Have a look at these built-in functions and some code examples here: http://scikit-learn.org/stable/modules/classes.html#module-sklearn.preprocessing!"
   ]
  },
  {
   "cell_type": "code",
   "execution_count": null,
   "metadata": {},
   "outputs": [],
   "source": []
  }
 ],
 "metadata": {
  "kernelspec": {
   "display_name": "Python 3",
   "language": "python",
   "name": "python3"
  },
  "language_info": {
   "codemirror_mode": {
    "name": "ipython",
    "version": 3
   },
   "file_extension": ".py",
   "mimetype": "text/x-python",
   "name": "python",
   "nbconvert_exporter": "python",
   "pygments_lexer": "ipython3",
   "version": "3.8.5"
  },
  "toc": {
   "base_numbering": 1,
   "nav_menu": {},
   "number_sections": false,
   "sideBar": true,
   "skip_h1_title": true,
   "title_cell": "Table of Contents",
   "title_sidebar": "Contents",
   "toc_cell": false,
   "toc_position": {},
   "toc_section_display": true,
   "toc_window_display": true
  }
 },
 "nbformat": 4,
 "nbformat_minor": 4
}

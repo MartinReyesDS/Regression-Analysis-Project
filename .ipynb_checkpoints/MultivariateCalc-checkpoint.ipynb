{
 "cells": [
  {
   "cell_type": "markdown",
   "metadata": {},
   "source": [
    "## WK3\n",
    "#### LAB: Identifying special matrices"
   ]
  },
  {
   "cell_type": "code",
   "execution_count": 3,
   "metadata": {
    "ExecuteTime": {
     "end_time": "2021-01-10T14:39:25.288454Z",
     "start_time": "2021-01-10T14:39:25.276197Z"
    }
   },
   "outputs": [],
   "source": [
    "import numpy as np\n",
    "# Our function will go through the matrix replacing each row in order turning it into echelon form.\n",
    "# If at any point it fails because it can't put a 1 in the leading diagonal,\n",
    "# we will return the value True, otherwise, we will return False.\n",
    "def isSingular(A) :\n",
    "    B = np.array(A, dtype=np.float_) # Make B as a copy of A, since we're going to alter it's values.\n",
    "    try:\n",
    "        fixRowZero(B)\n",
    "        fixRowOne(B)\n",
    "        fixRowTwo(B)\n",
    "        fixRowThree(B)\n",
    "    except MatrixIsSingular:\n",
    "        return True\n",
    "    return False\n",
    "\n",
    "# This next line defines our error flag. For when things go wrong if the matrix is singular.\n",
    "# There is no need to edit this line.\n",
    "class MatrixIsSingular(Exception): pass\n",
    "\n",
    "# For Row Zero, all we require is the first element is equal to 1.\n",
    "# We'll divide the row by the value of A[0, 0].\n",
    "# This will get us in trouble though if A[0, 0] equals 0, so first we'll test for that,\n",
    "# and if this is true, we'll add one of the lower rows to the first one before the division.\n",
    "# We'll repeat the test going down each lower row until we can do the division.\n",
    "def fixRowZero(A) :\n",
    "    if A[0,0] == 0 :\n",
    "        A[0] = A[0] + A[1]\n",
    "    if A[0,0] == 0 :\n",
    "        A[0] = A[0] + A[2]\n",
    "    if A[0,0] == 0 :\n",
    "        A[0] = A[0] + A[3]\n",
    "    if A[0,0] == 0 :\n",
    "        raise MatrixIsSingular()\n",
    "    A[0] = A[0] / A[0,0]\n",
    "    \n",
    "    return A\n",
    "\n",
    "# First we'll set the sub-diagonal elements to zero, i.e. A[1,0].\n",
    "# Next we want the diagonal element to be equal to one.\n",
    "# We'll divide the row by the value of A[1, 1].\n",
    "# Again, we need to test if this is zero.\n",
    "# If so, we'll add a lower row and repeat setting the sub-diagonal elements to zero.\n",
    "def fixRowOne(A) :\n",
    "    A[1] = A[1] - A[1,0] * A[0]\n",
    "    if A[1,1] == 0 :\n",
    "        A[1] = A[1] + A[2]\n",
    "        A[1] = A[1] - A[1,0] * A[0]\n",
    "    if A[1,1] == 0 :\n",
    "        A[1] = A[1] + A[3]\n",
    "        A[1] = A[1] - A[1,0] * A[0]\n",
    "    if A[1,1] == 0 :\n",
    "        raise MatrixIsSingular()\n",
    "    A[1] = A[1] / A[1,1]\n",
    "    \n",
    "    return A\n",
    "\n",
    "def fixRowTwo(A) :\n",
    "    # Insert code below to set the sub-diagonal elements of row two to zero (there are two of them).\n",
    "    A[2] = A[2] - A[2,0] * A[0]\n",
    "    A[2] = A[2] - A[2,1] * A[1]\n",
    "    # Next we'll test that the diagonal element is not zero.\n",
    "    if A[2,2] == 0 :\n",
    "        A[2] = A[2] + A[3]\n",
    "        A[2] = A[2] - A[2,0] * A[0]\n",
    "        A[2] = A[2] - A[2,1] * A[1]\n",
    "    if A[2,2] == 0 :\n",
    "        raise MatrixIsSingular()\n",
    "    # Finally set the diagonal element to one by dividing the whole row by that element.\n",
    "    A[2] = A[2] / A[2,2]\n",
    "    \n",
    "    return A\n",
    "\n",
    "# Follow the instructions inside the function at each comment.\n",
    "def fixRowThree(A) :\n",
    "    # Insert code below to set the sub-diagonal elements of row three to zero.\n",
    "    A[3] = A[3] - A[3,0] * A[0]\n",
    "    A[3] = A[3] - A[3,1] * A[1]\n",
    "    A[3] = A[3] - A[3,2] * A[2]\n",
    "    # Complete the if statement to test if the diagonal element is zero.\n",
    "    if A[3,3] == 0 :\n",
    "        raise MatrixIsSingular()\n",
    "    # Transform the row to set the diagonal element to one.\n",
    "    A[3] = A[3] / A[3,3] \n",
    "    \n",
    "    return A"
   ]
  },
  {
   "cell_type": "markdown",
   "metadata": {},
   "source": [
    "<hr style=\"border:1px solid gray\"> </hr>\n",
    "\n",
    "## WK4\n",
    "#### LAB: Gram-Schmidt Process"
   ]
  },
  {
   "cell_type": "code",
   "execution_count": null,
   "metadata": {},
   "outputs": [],
   "source": [
    "import numpy as np\n",
    "import numpy.linalg as la\n",
    "\n",
    "verySmallNumber = 1e-14 # 1×10⁻¹⁴\n",
    "\n",
    "# Our first function will perform the Gram-Schmidt procedure for 4 basis vectors.\n",
    "# We'll take this list of vectors as the columns of a matrix, A.\n",
    "# We'll then go through the vectors one at a time and set them to be orthogonal\n",
    "# to all the vectors that came before it. Before normalising.\n",
    "def gsBasis4(A) :\n",
    "    B = np.array(A, dtype=np.float_) # Make B as a copy of A, since we're going to alter it's values.\n",
    "    # The zeroth column is easy, since it has no other vectors to make it normal to.\n",
    "    # All that needs to be done is to normalise it. I.e. divide by its modulus, or norm.\n",
    "    B[:, 0] = B[:, 0] / la.norm(B[:, 0])\n",
    "    # For the first column, we need to subtract any overlap with our new zeroth vector.\n",
    "    B[:, 1] = B[:, 1] - B[:, 1] @ B[:, 0] * B[:, 0]\n",
    "    # If there's anything left after that subtraction, then B[:, 1] is linearly independant of B[:, 0]\n",
    "    # If this is the case, we can normalise it. Otherwise we'll set that vector to zero.\n",
    "    if la.norm(B[:, 1]) > verySmallNumber :\n",
    "        B[:, 1] = B[:, 1] / la.norm(B[:, 1])\n",
    "    else :\n",
    "        B[:, 1] = np.zeros_like(B[:, 1])\n",
    "    # Now we need to repeat the process for column 2.\n",
    "    # First subtract the overlap with the zeroth vector,\n",
    "    # and then subtract the overlap with the first.\n",
    "    B[:, 2] = B[:, 2] - B[:, 2] @ B[:, 0] * B[:, 0]\n",
    "    B[:, 2] = B[:, 2] - B[:, 2] @ B[:, 1] * B[:, 1]\n",
    "    # Again we'll need to normalise our new vector.\n",
    "    # Copy and adapt the normalisation fragment from above to column 2.\n",
    "    if la.norm(B[:, 2]) > verySmallNumber :\n",
    "        B[:, 2] = B[:, 2] / la.norm(B[:, 2])\n",
    "    else :\n",
    "        B[:, 2] = np.zeros_like(B[:, 2])\n",
    "    # Finally, column three:\n",
    "    # Subtract the overlap with the first three vectors.\n",
    "    B[:, 3] = B[:, 3] - B[:, 3] @ B[:, 0] * B[:, 0]\n",
    "    B[:, 3] = B[:, 3] - B[:, 3] @ B[:, 1] * B[:, 1]\n",
    "    B[:, 3] = B[:, 3] - B[:, 3] @ B[:, 2] * B[:, 2]\n",
    "    # Now normalise if possible\n",
    "    if la.norm(B[:, 3]) > verySmallNumber :\n",
    "        B[:, 3] = B[:, 3] / la.norm(B[:, 3])\n",
    "    else :\n",
    "        B[:, 3] = np.zeros_like(B[:, 3])    \n",
    "\n",
    "    return B\n",
    "\n",
    "# The second part of this exercise will generalise the procedure.\n",
    "# Previously, we could only have four vectors, and there was a lot of repeating in the code.\n",
    "# We'll use a for-loop here to iterate the process for each vector.\n",
    "def gsBasis(A) :\n",
    "    B = np.array(A, dtype=np.float_) # Make B as a copy of A, since we're going to alter it's values.\n",
    "    # Loop over all vectors, starting with zero, label them with i\n",
    "    for i in range(B.shape[1]) :\n",
    "        # Inside that loop, loop over all previous vectors, j, to subtract.\n",
    "        for j in range(i) :\n",
    "            # Subtract the overlap with previous vectors.\n",
    "            # you'll need the current vector B[:, i] and a previous vector B[:, j]\n",
    "            B[:, i] = B[:, i] - B[:, i] @ B[:, j] * B[:, j]\n",
    "        # Next insert code to do the normalisation test for B[:, i]\n",
    "        if la.norm(B[:, i]) > verySmallNumber :\n",
    "            B[:, i] = B[:, i] / la.norm(B[:, i])\n",
    "        else :\n",
    "            B[:, i] = np.zeros_like(B[:, i])      \n",
    "    return B\n",
    "\n",
    "# This function uses the Gram-schmidt process to calculate the dimension\n",
    "# spanned by a list of vectors.\n",
    "# Since each vector is normalised to one, or is zero,\n",
    "# the sum of all the norms will be the dimension.\n",
    "def dimensions(A) :\n",
    "    return np.sum(la.norm(gsBasis(A), axis=0))\n",
    "\n",
    "# This function returns the transformation matrix T,\n",
    "# having built it out of an orthonormal basis set E that you create from Bear's Basis\n",
    "# and a transformation matrix in the mirror's coordinates TE.\n",
    "def build_reflection_matrix(otherBasis) : # otherBasis is a matrix.\n",
    "    # Use the gsBasis function on otherBasis to get the mirror's orthonormal basis.\n",
    "    E = gsBasis(otherBasis)\n",
    "    # Write a matrix in component form that performs the mirror's reflection in the mirror's basis.\n",
    "    # The mirror operates by negating the last component of a vector.\n",
    "    TE = np.array([[1, 0],\n",
    "                   [0, -1]])\n",
    "    # Combine the matrices E and TE to produce your transformation matrix.\n",
    "    T = E @ TE @ inv(E)\n",
    "    return T"
   ]
  },
  {
   "cell_type": "markdown",
   "metadata": {},
   "source": [
    "<hr style=\"border:1px solid gray\"> </hr>\n",
    "\n",
    "## WK5\n",
    "#### PQ: eigen-things"
   ]
  },
  {
   "cell_type": "code",
   "execution_count": 26,
   "metadata": {
    "ExecuteTime": {
     "end_time": "2021-01-08T09:01:33.024117Z",
     "start_time": "2021-01-08T09:01:33.019684Z"
    }
   },
   "outputs": [
    {
     "data": {
      "text/plain": [
       "(array([1., 2.]),\n",
       " array([[1., 0.],\n",
       "        [0., 1.]]))"
      ]
     },
     "execution_count": 26,
     "metadata": {},
     "output_type": "execute_result"
    }
   ],
   "source": [
    "# 2\n",
    "ev2 = np.linalg.eig(np.array([[1,0],[0,2]]))\n",
    "ev2"
   ]
  },
  {
   "cell_type": "code",
   "execution_count": 31,
   "metadata": {
    "ExecuteTime": {
     "end_time": "2021-01-08T09:06:33.322245Z",
     "start_time": "2021-01-08T09:06:33.317324Z"
    }
   },
   "outputs": [
    {
     "data": {
      "text/plain": [
       "(array([3., 5.]),\n",
       " array([[1.        , 0.89442719],\n",
       "        [0.        , 0.4472136 ]]))"
      ]
     },
     "execution_count": 31,
     "metadata": {},
     "output_type": "execute_result"
    }
   ],
   "source": [
    "# 4\n",
    "ev4 = np.linalg.eig(np.array([[3,4],[0,5]]))\n",
    "ev4"
   ]
  },
  {
   "cell_type": "code",
   "execution_count": 32,
   "metadata": {
    "ExecuteTime": {
     "end_time": "2021-01-08T09:09:49.556945Z",
     "start_time": "2021-01-08T09:09:49.552297Z"
    }
   },
   "outputs": [
    {
     "data": {
      "text/plain": [
       "(array([4., 1.]),\n",
       " array([[0.        , 0.9486833 ],\n",
       "        [1.        , 0.31622777]]))"
      ]
     },
     "execution_count": 32,
     "metadata": {},
     "output_type": "execute_result"
    }
   ],
   "source": [
    "# 6\n",
    "ev6 = np.linalg.eig(np.array([[1,0],[-1,4]]))\n",
    "ev6"
   ]
  },
  {
   "cell_type": "code",
   "execution_count": 33,
   "metadata": {
    "ExecuteTime": {
     "end_time": "2021-01-08T09:12:46.128179Z",
     "start_time": "2021-01-08T09:12:46.123972Z"
    }
   },
   "outputs": [
    {
     "data": {
      "text/plain": [
       "(array([-5.,  5.]),\n",
       " array([[-0.9701425 , -0.70710678],\n",
       "        [ 0.24253563, -0.70710678]]))"
      ]
     },
     "execution_count": 33,
     "metadata": {},
     "output_type": "execute_result"
    }
   ],
   "source": [
    "# 8\n",
    "ev8 = np.linalg.eig(np.array([[-3,8],[2,3]]))\n",
    "ev8"
   ]
  },
  {
   "cell_type": "code",
   "execution_count": 35,
   "metadata": {
    "ExecuteTime": {
     "end_time": "2021-01-08T09:17:00.223173Z",
     "start_time": "2021-01-08T09:17:00.197397Z"
    }
   },
   "outputs": [
    {
     "data": {
      "text/plain": [
       "(array([1.+2.98023224e-08j, 1.-2.98023224e-08j]),\n",
       " array([[ 0.70710678+0.00000000e+00j,  0.70710678-0.00000000e+00j],\n",
       "        [-0.70710678+5.26835606e-09j, -0.70710678-5.26835606e-09j]]))"
      ]
     },
     "execution_count": 35,
     "metadata": {},
     "output_type": "execute_result"
    }
   ],
   "source": [
    "# 9\n",
    "ev9 = np.linalg.eig(np.array([[5,4],[-4,-3]]))\n",
    "ev9"
   ]
  },
  {
   "cell_type": "code",
   "execution_count": 36,
   "metadata": {
    "ExecuteTime": {
     "end_time": "2021-01-08T09:18:16.062285Z",
     "start_time": "2021-01-08T09:18:16.057627Z"
    }
   },
   "outputs": [
    {
     "data": {
      "text/plain": [
       "(array([-0.5+0.8660254j, -0.5-0.8660254j]),\n",
       " array([[ 0.8660254+0.j  ,  0.8660254-0.j  ],\n",
       "        [-0.4330127-0.25j, -0.4330127+0.25j]]))"
      ]
     },
     "execution_count": 36,
     "metadata": {},
     "output_type": "execute_result"
    }
   ],
   "source": [
    "# 10\n",
    "ev10 = np.linalg.eig(np.array([[-2,-3],[1,1]]))\n",
    "ev10"
   ]
  },
  {
   "cell_type": "markdown",
   "metadata": {},
   "source": [
    "<hr style=\"border:1px solid gray\"> </hr>\n",
    "\n",
    "#### PQ: Diagonalization and Applications"
   ]
  },
  {
   "cell_type": "code",
   "execution_count": 52,
   "metadata": {
    "ExecuteTime": {
     "end_time": "2021-01-08T10:09:34.920310Z",
     "start_time": "2021-01-08T10:09:34.915241Z"
    }
   },
   "outputs": [
    {
     "data": {
      "text/plain": [
       "(array([[ 6, -1],\n",
       "        [ 2,  3]]),\n",
       " array([[0.70710678, 0.4472136 ],\n",
       "        [0.70710678, 0.89442719]]),\n",
       " array([[ 2.82842712, -1.41421356],\n",
       "        [-2.23606798,  2.23606798]]),\n",
       " array([[5.0000000e+00, 8.8817842e-16],\n",
       "        [0.0000000e+00, 4.0000000e+00]]))"
      ]
     },
     "execution_count": 52,
     "metadata": {},
     "output_type": "execute_result"
    }
   ],
   "source": [
    "# 1\n",
    "T = np.array([[6,-1],[2,3]])\n",
    "C = np.linalg.eig(T)[1]\n",
    "invC = np.linalg.inv(C)\n",
    "D = invC @ T @ C\n",
    "T, C, invC, D"
   ]
  },
  {
   "cell_type": "code",
   "execution_count": 53,
   "metadata": {
    "ExecuteTime": {
     "end_time": "2021-01-08T10:10:49.127920Z",
     "start_time": "2021-01-08T10:10:49.122835Z"
    }
   },
   "outputs": [
    {
     "data": {
      "text/plain": [
       "(array([[ 2,  7],\n",
       "        [ 0, -1]]),\n",
       " array([[ 1.        , -0.91914503],\n",
       "        [ 0.        ,  0.3939193 ]]),\n",
       " array([[1.        , 2.33333333],\n",
       "        [0.        , 2.53859104]]),\n",
       " array([[ 2.0000000e+00, -4.4408921e-16],\n",
       "        [ 0.0000000e+00, -1.0000000e+00]]))"
      ]
     },
     "execution_count": 53,
     "metadata": {},
     "output_type": "execute_result"
    }
   ],
   "source": [
    "# 2\n",
    "T = np.array([[2,7],[0,-1]])\n",
    "C = np.linalg.eig(T)[1]\n",
    "invC = np.linalg.inv(C)\n",
    "D = invC @ T @ C\n",
    "T, C, invC, D"
   ]
  },
  {
   "cell_type": "code",
   "execution_count": 55,
   "metadata": {
    "ExecuteTime": {
     "end_time": "2021-01-08T10:13:52.237486Z",
     "start_time": "2021-01-08T10:13:52.232347Z"
    }
   },
   "outputs": [
    {
     "data": {
      "text/plain": [
       "(array([[ 1,  0],\n",
       "        [ 2, -1]]),\n",
       " array([[0.        , 0.70710678],\n",
       "        [1.        , 0.70710678]]),\n",
       " array([[-1.        ,  1.        ],\n",
       "        [ 1.41421356,  0.        ]]),\n",
       " array([[-1.,  0.],\n",
       "        [ 0.,  1.]]))"
      ]
     },
     "execution_count": 55,
     "metadata": {},
     "output_type": "execute_result"
    }
   ],
   "source": [
    "# 3\n",
    "T = np.array([[1,0],[2,-1]])\n",
    "C = np.linalg.eig(T)[1]\n",
    "invC = np.linalg.inv(C)\n",
    "D = invC @ T @ C\n",
    "T, C, invC, D"
   ]
  },
  {
   "cell_type": "code",
   "execution_count": 57,
   "metadata": {
    "ExecuteTime": {
     "end_time": "2021-01-08T10:19:51.791369Z",
     "start_time": "2021-01-08T10:19:51.786520Z"
    }
   },
   "outputs": [
    {
     "data": {
      "text/plain": [
       "(array([[1., 0.],\n",
       "        [0., 1.]]),\n",
       " array([[1, 2],\n",
       "        [0, 1]]),\n",
       " array([[ 1., -2.],\n",
       "        [ 0.,  1.]]),\n",
       " array([[1., 0.],\n",
       "        [0., 1.]]))"
      ]
     },
     "execution_count": 57,
     "metadata": {},
     "output_type": "execute_result"
    }
   ],
   "source": [
    "# 4\n",
    "C = np.array([[1,2],[0,1]])\n",
    "invC = np.linalg.inv(C)\n",
    "D = np.identity(2)\n",
    "T = C @ D @ invC\n",
    "T, C, invC, D"
   ]
  },
  {
   "cell_type": "code",
   "execution_count": 59,
   "metadata": {
    "ExecuteTime": {
     "end_time": "2021-01-08T10:24:04.879377Z",
     "start_time": "2021-01-08T10:24:04.791740Z"
    }
   },
   "outputs": [
    {
     "data": {
      "text/plain": [
       "(array([[ 6., -1.],\n",
       "        [ 2.,  3.]]),\n",
       " array([[1, 1],\n",
       "        [1, 2]]),\n",
       " array([[ 2., -1.],\n",
       "        [-1.,  1.]]),\n",
       " array([[5, 0],\n",
       "        [0, 4]]))"
      ]
     },
     "execution_count": 59,
     "metadata": {},
     "output_type": "execute_result"
    }
   ],
   "source": [
    "# 5\n",
    "C = np.array([[1,1],[1,2]])\n",
    "invC = np.linalg.inv(C)\n",
    "D = np.array([[5,0],[0,4]])\n",
    "T = C @ D @ invC\n",
    "T, C, invC, D"
   ]
  },
  {
   "cell_type": "code",
   "execution_count": 64,
   "metadata": {
    "ExecuteTime": {
     "end_time": "2021-01-08T10:29:33.593401Z",
     "start_time": "2021-01-08T10:29:33.589006Z"
    }
   },
   "outputs": [
    {
     "data": {
      "text/plain": [
       "(array([[186., -61.],\n",
       "        [122.,   3.]]),\n",
       " array([[216.,  -1.],\n",
       "        [  8.,  27.]]),\n",
       " array([[186., -61.],\n",
       "        [122.,   3.]]))"
      ]
     },
     "execution_count": 64,
     "metadata": {},
     "output_type": "execute_result"
    }
   ],
   "source": [
    "T3 = C @ D ** 3 @ invC\n",
    "T3, T ** 3, T @ T @ T"
   ]
  },
  {
   "cell_type": "code",
   "execution_count": 65,
   "metadata": {
    "ExecuteTime": {
     "end_time": "2021-01-08T10:30:44.695752Z",
     "start_time": "2021-01-08T10:30:44.690289Z"
    }
   },
   "outputs": [
    {
     "data": {
      "text/plain": [
       "(array([[ 2.,  7.],\n",
       "        [ 0., -1.]]),\n",
       " array([[ 7,  1],\n",
       "        [-3,  0]]),\n",
       " array([[ 0.        , -0.33333333],\n",
       "        [ 1.        ,  2.33333333]]),\n",
       " array([[-1,  0],\n",
       "        [ 0,  2]]),\n",
       " array([[ 8., 21.],\n",
       "        [ 0., -1.]]))"
      ]
     },
     "execution_count": 65,
     "metadata": {},
     "output_type": "execute_result"
    }
   ],
   "source": [
    "# 6\n",
    "C = np.array([[7,1],[-3,0]])\n",
    "invC = np.linalg.inv(C)\n",
    "D = np.array([[-1,0],[0,2]])\n",
    "T = C @ D @ invC\n",
    "T, C, invC, D, T @ T @ T"
   ]
  },
  {
   "cell_type": "code",
   "execution_count": 66,
   "metadata": {
    "ExecuteTime": {
     "end_time": "2021-01-08T10:32:01.343058Z",
     "start_time": "2021-01-08T10:32:01.337764Z"
    }
   },
   "outputs": [
    {
     "data": {
      "text/plain": [
       "(array([[ 1.,  0.],\n",
       "        [ 2., -1.]]),\n",
       " array([[1, 0],\n",
       "        [1, 1]]),\n",
       " array([[ 1.,  0.],\n",
       "        [-1.,  1.]]),\n",
       " array([[ 1,  0],\n",
       "        [ 0, -1]]),\n",
       " array([[ 1.,  0.],\n",
       "        [ 2., -1.]]))"
      ]
     },
     "execution_count": 66,
     "metadata": {},
     "output_type": "execute_result"
    }
   ],
   "source": [
    "# 7\n",
    "C = np.array([[1,0],[1,1]])\n",
    "invC = np.linalg.inv(C)\n",
    "D = np.array([[1,0],[0,-1]])\n",
    "T = C @ D @ invC\n",
    "T, C, invC, D, T @ T @ T @ T @ T"
   ]
  },
  {
   "cell_type": "markdown",
   "metadata": {},
   "source": [
    "#### LAB:  PageRank algorithm"
   ]
  },
  {
   "cell_type": "code",
   "execution_count": null,
   "metadata": {},
   "outputs": [],
   "source": [
    "b"
   ]
  },
  {
   "cell_type": "markdown",
   "metadata": {
    "ExecuteTime": {
     "end_time": "2021-01-10T14:49:53.139476Z",
     "start_time": "2021-01-10T14:49:53.137103Z"
    }
   },
   "source": [
    "#### QUIZ:  Eigen-things"
   ]
  },
  {
   "cell_type": "code",
   "execution_count": null,
   "metadata": {},
   "outputs": [],
   "source": []
  },
  {
   "cell_type": "code",
   "execution_count": null,
   "metadata": {},
   "outputs": [],
   "source": []
  }
 ],
 "metadata": {
  "kernelspec": {
   "display_name": "Python 3",
   "language": "python",
   "name": "python3"
  },
  "language_info": {
   "codemirror_mode": {
    "name": "ipython",
    "version": 3
   },
   "file_extension": ".py",
   "mimetype": "text/x-python",
   "name": "python",
   "nbconvert_exporter": "python",
   "pygments_lexer": "ipython3",
   "version": "3.8.5"
  },
  "toc": {
   "base_numbering": 1,
   "nav_menu": {},
   "number_sections": false,
   "sideBar": true,
   "skip_h1_title": true,
   "title_cell": "Table of Contents",
   "title_sidebar": "Contents",
   "toc_cell": false,
   "toc_position": {},
   "toc_section_display": true,
   "toc_window_display": true
  }
 },
 "nbformat": 4,
 "nbformat_minor": 4
}
